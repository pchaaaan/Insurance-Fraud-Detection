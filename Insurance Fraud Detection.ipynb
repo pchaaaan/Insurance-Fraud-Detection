{
 "cells": [
  {
   "cell_type": "code",
   "execution_count": 138,
   "id": "e30b9f6c",
   "metadata": {},
   "outputs": [],
   "source": [
    "#import the necessary libraries\n",
    "\n",
    "import pandas as pd\n",
    "from sklearn.preprocessing import label_binarize\n",
    "import numpy as np\n",
    "from sklearn.model_selection import train_test_split\n",
    "from sklearn.ensemble import RandomForestClassifier\n",
    "from sklearn.tree import DecisionTreeClassifier\n",
    "from sklearn.model_selection import GridSearchCV\n",
    "from sklearn.model_selection import RandomizedSearchCV\n",
    "from sklearn.model_selection import cross_val_score\n",
    "from sklearn.metrics import classification_report, confusion_matrix\n",
    "from sklearn.ensemble import GradientBoostingClassifier\n",
    "from sklearn.preprocessing import OneHotEncoder\n",
    "from sklearn import metrics\n",
    "import seaborn as sns\n",
    "import matplotlib.pyplot as plt"
   ]
  },
  {
   "cell_type": "code",
   "execution_count": 139,
   "id": "2db5172c",
   "metadata": {},
   "outputs": [],
   "source": [
    "#to ignore warnings\n",
    "\n",
    "import warnings\n",
    "warnings.filterwarnings('ignore')"
   ]
  },
  {
   "cell_type": "code",
   "execution_count": 140,
   "id": "b4bce481",
   "metadata": {},
   "outputs": [
    {
     "name": "stdout",
     "output_type": "stream",
     "text": [
      "(2999, 32)\n",
      "(12918, 32)\n"
     ]
    }
   ],
   "source": [
    "#loading the training and testing datasets\n",
    "\n",
    "train = pd.read_csv(r\"C:\\Users\\cppra\\Insurance Fraud - TRAIN-3000.csv\")\n",
    "test = pd.read_csv(r\"C:\\Users\\cppra\\Insurance Fraud -TEST-12900.csv\")\n",
    "\n",
    "print(train.shape)\n",
    "print(test.shape)"
   ]
  },
  {
   "cell_type": "code",
   "execution_count": 141,
   "id": "c1ade11f",
   "metadata": {},
   "outputs": [
    {
     "name": "stdout",
     "output_type": "stream",
     "text": [
      "<class 'pandas.core.frame.DataFrame'>\n",
      "RangeIndex: 2999 entries, 0 to 2998\n",
      "Data columns (total 32 columns):\n",
      " #   Column                Non-Null Count  Dtype \n",
      "---  ------                --------------  ----- \n",
      " 0   MONTH                 2999 non-null   object\n",
      " 1   WEEKOFMONTH           2999 non-null   int64 \n",
      " 2   DAYOFWEEK             2999 non-null   object\n",
      " 3   MAKE                  2999 non-null   object\n",
      " 4   ACCIDENTAREA          2999 non-null   object\n",
      " 5   DAYOFWEEKCLAIMED      2999 non-null   object\n",
      " 6   MONTHCLAIMED          2999 non-null   object\n",
      " 7   WEEKOFMONTHCLAIMED    2999 non-null   int64 \n",
      " 8   SEX                   2999 non-null   object\n",
      " 9   MARITALSTATUS         2999 non-null   object\n",
      " 10  AGE                   2999 non-null   int64 \n",
      " 11  FAULT                 2999 non-null   object\n",
      " 12  POLICYTYPE            2999 non-null   object\n",
      " 13  VEHICLECATEGORY       2999 non-null   object\n",
      " 14  VEHICLEPRICE          2999 non-null   object\n",
      " 15  REPNUMBER             2999 non-null   int64 \n",
      " 16  DEDUCTIBLE            2999 non-null   int64 \n",
      " 17  DRIVERRATING          2999 non-null   int64 \n",
      " 18  DAYS_POLICY_ACCIDENT  2999 non-null   object\n",
      " 19  DAYS_POLICY_CLAIM     2999 non-null   object\n",
      " 20  PASTNUMBEROFCLAIMS    2999 non-null   object\n",
      " 21  AGEOFVEHICLE          2999 non-null   object\n",
      " 22  AGEOFPOLICYHOLDER     2999 non-null   object\n",
      " 23  POLICEREPORTFILED     2999 non-null   object\n",
      " 24  WITNESSPRESENT        2999 non-null   object\n",
      " 25  AGENTTYPE             2999 non-null   object\n",
      " 26  NUMBEROFSUPPLIMENTS   2999 non-null   object\n",
      " 27  ADDRESSCHANGE_CLAIM   2999 non-null   object\n",
      " 28  NUMBEROFCARS          2999 non-null   object\n",
      " 29  YEAR                  2999 non-null   int64 \n",
      " 30  BASEPOLICY            2999 non-null   object\n",
      " 31  FRAUDFOUND            2999 non-null   object\n",
      "dtypes: int64(7), object(25)\n",
      "memory usage: 749.9+ KB\n",
      "<class 'pandas.core.frame.DataFrame'>\n",
      "RangeIndex: 12918 entries, 0 to 12917\n",
      "Data columns (total 32 columns):\n",
      " #   Column                Non-Null Count  Dtype \n",
      "---  ------                --------------  ----- \n",
      " 0   MONTH                 12918 non-null  object\n",
      " 1   WEEKOFMONTH           12918 non-null  int64 \n",
      " 2   DAYOFWEEK             12918 non-null  object\n",
      " 3   MAKE                  12918 non-null  object\n",
      " 4   ACCIDENTAREA          12918 non-null  object\n",
      " 5   DAYOFWEEKCLAIMED      12918 non-null  object\n",
      " 6   MONTHCLAIMED          12918 non-null  object\n",
      " 7   WEEKOFMONTHCLAIMED    12918 non-null  int64 \n",
      " 8   SEX                   12918 non-null  object\n",
      " 9   MARITALSTATUS         12918 non-null  object\n",
      " 10  AGE                   12918 non-null  int64 \n",
      " 11  FAULT                 12918 non-null  object\n",
      " 12  POLICYTYPE            12918 non-null  object\n",
      " 13  VEHICLECATEGORY       12918 non-null  object\n",
      " 14  VEHICLEPRICE          12918 non-null  object\n",
      " 15  REPNUMBER             12918 non-null  int64 \n",
      " 16  DEDUCTIBLE            12918 non-null  int64 \n",
      " 17  DRIVERRATING          12918 non-null  int64 \n",
      " 18  DAYS_POLICY_ACCIDENT  12918 non-null  object\n",
      " 19  DAYS_POLICY_CLAIM     12918 non-null  object\n",
      " 20  PASTNUMBEROFCLAIMS    12918 non-null  object\n",
      " 21  AGEOFVEHICLE          12918 non-null  object\n",
      " 22  AGEOFPOLICYHOLDER     12918 non-null  object\n",
      " 23  POLICEREPORTFILED     12918 non-null  object\n",
      " 24  WITNESSPRESENT        12918 non-null  object\n",
      " 25  AGENTTYPE             12918 non-null  object\n",
      " 26  NUMBEROFSUPPLIMENTS   12918 non-null  object\n",
      " 27  ADDRESSCHANGE_CLAIM   12918 non-null  object\n",
      " 28  NUMBEROFCARS          12918 non-null  object\n",
      " 29  YEAR                  12918 non-null  int64 \n",
      " 30  BASEPOLICY            12918 non-null  object\n",
      " 31  FRAUDFOUND            12918 non-null  object\n",
      "dtypes: int64(7), object(25)\n",
      "memory usage: 3.2+ MB\n"
     ]
    }
   ],
   "source": [
    "#displays information about the columns\n",
    "\n",
    "train.info()\n",
    "test.info()"
   ]
  },
  {
   "cell_type": "code",
   "execution_count": 142,
   "id": "e75bc144",
   "metadata": {},
   "outputs": [
    {
     "data": {
      "image/png": "[encoded data removed]",
      "text/plain": [
       "<Figure size 640x480 with 1 Axes>"
      ]
     },
     "metadata": {},
     "output_type": "display_data"
    }
   ],
   "source": [
    "#bar graph showing the counts of each target value\n",
    "\n",
    "sns.countplot(x=\"FRAUDFOUND\", data=train)\n",
    "plt.show()"
   ]
  },
  {
   "cell_type": "code",
   "execution_count": 143,
   "id": "b19e1007",
   "metadata": {},
   "outputs": [
    {
     "name": "stdout",
     "output_type": "stream",
     "text": [
      "['MONTH', 'WEEKOFMONTH', 'DAYOFWEEK', 'MAKE', 'ACCIDENTAREA', 'DAYOFWEEKCLAIMED', 'MONTHCLAIMED', 'WEEKOFMONTHCLAIMED', 'SEX', 'MARITALSTATUS', 'AGE', 'FAULT', 'POLICYTYPE', 'VEHICLECATEGORY', 'VEHICLEPRICE', 'REPNUMBER', 'DEDUCTIBLE', 'DRIVERRATING', 'DAYS_POLICY_ACCIDENT', 'DAYS_POLICY_CLAIM', 'PASTNUMBEROFCLAIMS', 'AGEOFVEHICLE', 'AGEOFPOLICYHOLDER', 'POLICEREPORTFILED', 'WITNESSPRESENT', 'AGENTTYPE', 'NUMBEROFSUPPLIMENTS', 'ADDRESSCHANGE_CLAIM', 'NUMBEROFCARS', 'YEAR', 'BASEPOLICY', 'FRAUDFOUND']\n",
      "['MONTH', 'WEEKOFMONTH', 'DAYOFWEEK', 'MAKE', 'ACCIDENTAREA', 'DAYOFWEEKCLAIMED', 'MONTHCLAIMED', 'WEEKOFMONTHCLAIMED', 'SEX', 'MARITALSTATUS', 'AGE', 'FAULT', 'POLICYTYPE', 'VEHICLECATEGORY', 'VEHICLEPRICE', 'REPNUMBER', 'DEDUCTIBLE', 'DRIVERRATING', 'DAYS_POLICY_ACCIDENT', 'DAYS_POLICY_CLAIM', 'PASTNUMBEROFCLAIMS', 'AGEOFVEHICLE', 'AGEOFPOLICYHOLDER', 'POLICEREPORTFILED', 'WITNESSPRESENT', 'AGENTTYPE', 'NUMBEROFSUPPLIMENTS', 'ADDRESSCHANGE_CLAIM', 'NUMBEROFCARS', 'YEAR', 'BASEPOLICY', 'FRAUDFOUND']\n"
     ]
    }
   ],
   "source": [
    "#getting list of names of all columns from a dataframe\n",
    "\n",
    "TrainCols = list(train.columns.values)\n",
    "TestCols = list(test.columns.values)\n",
    "print(TrainCols)\n",
    "print(TestCols)"
   ]
  },
  {
   "cell_type": "code",
   "execution_count": 144,
   "id": "06248d76",
   "metadata": {
    "scrolled": false
   },
   "outputs": [
    {
     "name": "stdout",
     "output_type": "stream",
     "text": [
      "Train Set shape:\n",
      "(2999, 31)\n",
      "(2999, 1)\n",
      "Test Set shape:\n",
      "(12918, 31)\n",
      "(12918, 1)\n"
     ]
    }
   ],
   "source": [
    "#seperate Target column from Train Data\n",
    "\n",
    "Xtrain = train[TrainCols[0:len(TrainCols)-1]].copy()\n",
    "Ytrain = train[['FRAUDFOUND']].copy()\n",
    "print(\"Train Set shape:\")\n",
    "print(Xtrain.shape)\n",
    "print(Ytrain.shape)\n",
    "Xtest = test[TestCols[0:len(TestCols)-1]].copy()\n",
    "Ytest = test[['FRAUDFOUND']].copy()\n",
    "print(\"Test Set shape:\")\n",
    "print(Xtest.shape)\n",
    "print(Ytest.shape)"
   ]
  },
  {
   "cell_type": "code",
   "execution_count": 145,
   "id": "5238e588",
   "metadata": {},
   "outputs": [],
   "source": [
    "#stores categorical features in an array\n",
    "\n",
    "categoricalFeatures = Xtrain.select_dtypes(include=['object']).columns.to_list()"
   ]
  },
  {
   "cell_type": "code",
   "execution_count": 146,
   "id": "2d52363c",
   "metadata": {},
   "outputs": [
    {
     "data": {
      "text/html": [
       "<div>\n",
       "<style scoped>\n",
       "    .dataframe tbody tr th:only-of-type {\n",
       "        vertical-align: middle;\n",
       "    }\n",
       "\n",
       "    .dataframe tbody tr th {\n",
       "        vertical-align: top;\n",
       "    }\n",
       "\n",
       "    .dataframe thead th {\n",
       "        text-align: right;\n",
       "    }\n",
       "</style>\n",
       "<table border=\"1\" class=\"dataframe\">\n",
       "  <thead>\n",
       "    <tr style=\"text-align: right;\">\n",
       "      <th></th>\n",
       "      <th>MONTH_Apr</th>\n",
       "      <th>MONTH_Aug</th>\n",
       "      <th>MONTH_Dec</th>\n",
       "      <th>MONTH_Feb</th>\n",
       "      <th>MONTH_Jan</th>\n",
       "      <th>MONTH_Jul</th>\n",
       "      <th>MONTH_Jun</th>\n",
       "      <th>MONTH_Mar</th>\n",
       "      <th>MONTH_May</th>\n",
       "      <th>MONTH_Nov</th>\n",
       "      <th>...</th>\n",
       "      <th>NUMBEROFCARS_1-vehicle</th>\n",
       "      <th>NUMBEROFCARS_2-vehicles</th>\n",
       "      <th>NUMBEROFCARS_3_to_4</th>\n",
       "      <th>NUMBEROFCARS_5_to_8</th>\n",
       "      <th>YEAR_1994</th>\n",
       "      <th>YEAR_1995</th>\n",
       "      <th>YEAR_1996</th>\n",
       "      <th>BASEPOLICY_All_Perils</th>\n",
       "      <th>BASEPOLICY_Collision</th>\n",
       "      <th>BASEPOLICY_Liability</th>\n",
       "    </tr>\n",
       "  </thead>\n",
       "  <tbody>\n",
       "    <tr>\n",
       "      <th>1029</th>\n",
       "      <td>0.0</td>\n",
       "      <td>0.0</td>\n",
       "      <td>0.0</td>\n",
       "      <td>0.0</td>\n",
       "      <td>0.0</td>\n",
       "      <td>0.0</td>\n",
       "      <td>0.0</td>\n",
       "      <td>0.0</td>\n",
       "      <td>0.0</td>\n",
       "      <td>0.0</td>\n",
       "      <td>...</td>\n",
       "      <td>1.0</td>\n",
       "      <td>0.0</td>\n",
       "      <td>0.0</td>\n",
       "      <td>0.0</td>\n",
       "      <td>0.0</td>\n",
       "      <td>1.0</td>\n",
       "      <td>0.0</td>\n",
       "      <td>0.0</td>\n",
       "      <td>1.0</td>\n",
       "      <td>0.0</td>\n",
       "    </tr>\n",
       "    <tr>\n",
       "      <th>677</th>\n",
       "      <td>0.0</td>\n",
       "      <td>0.0</td>\n",
       "      <td>0.0</td>\n",
       "      <td>0.0</td>\n",
       "      <td>0.0</td>\n",
       "      <td>0.0</td>\n",
       "      <td>0.0</td>\n",
       "      <td>0.0</td>\n",
       "      <td>1.0</td>\n",
       "      <td>0.0</td>\n",
       "      <td>...</td>\n",
       "      <td>1.0</td>\n",
       "      <td>0.0</td>\n",
       "      <td>0.0</td>\n",
       "      <td>0.0</td>\n",
       "      <td>0.0</td>\n",
       "      <td>1.0</td>\n",
       "      <td>0.0</td>\n",
       "      <td>0.0</td>\n",
       "      <td>0.0</td>\n",
       "      <td>1.0</td>\n",
       "    </tr>\n",
       "    <tr>\n",
       "      <th>65</th>\n",
       "      <td>1.0</td>\n",
       "      <td>0.0</td>\n",
       "      <td>0.0</td>\n",
       "      <td>0.0</td>\n",
       "      <td>0.0</td>\n",
       "      <td>0.0</td>\n",
       "      <td>0.0</td>\n",
       "      <td>0.0</td>\n",
       "      <td>0.0</td>\n",
       "      <td>0.0</td>\n",
       "      <td>...</td>\n",
       "      <td>1.0</td>\n",
       "      <td>0.0</td>\n",
       "      <td>0.0</td>\n",
       "      <td>0.0</td>\n",
       "      <td>1.0</td>\n",
       "      <td>0.0</td>\n",
       "      <td>0.0</td>\n",
       "      <td>0.0</td>\n",
       "      <td>1.0</td>\n",
       "      <td>0.0</td>\n",
       "    </tr>\n",
       "    <tr>\n",
       "      <th>1980</th>\n",
       "      <td>0.0</td>\n",
       "      <td>0.0</td>\n",
       "      <td>0.0</td>\n",
       "      <td>0.0</td>\n",
       "      <td>0.0</td>\n",
       "      <td>0.0</td>\n",
       "      <td>0.0</td>\n",
       "      <td>0.0</td>\n",
       "      <td>0.0</td>\n",
       "      <td>0.0</td>\n",
       "      <td>...</td>\n",
       "      <td>1.0</td>\n",
       "      <td>0.0</td>\n",
       "      <td>0.0</td>\n",
       "      <td>0.0</td>\n",
       "      <td>0.0</td>\n",
       "      <td>1.0</td>\n",
       "      <td>0.0</td>\n",
       "      <td>0.0</td>\n",
       "      <td>1.0</td>\n",
       "      <td>0.0</td>\n",
       "    </tr>\n",
       "    <tr>\n",
       "      <th>2692</th>\n",
       "      <td>0.0</td>\n",
       "      <td>0.0</td>\n",
       "      <td>0.0</td>\n",
       "      <td>0.0</td>\n",
       "      <td>0.0</td>\n",
       "      <td>0.0</td>\n",
       "      <td>0.0</td>\n",
       "      <td>1.0</td>\n",
       "      <td>0.0</td>\n",
       "      <td>0.0</td>\n",
       "      <td>...</td>\n",
       "      <td>1.0</td>\n",
       "      <td>0.0</td>\n",
       "      <td>0.0</td>\n",
       "      <td>0.0</td>\n",
       "      <td>0.0</td>\n",
       "      <td>0.0</td>\n",
       "      <td>1.0</td>\n",
       "      <td>0.0</td>\n",
       "      <td>1.0</td>\n",
       "      <td>0.0</td>\n",
       "    </tr>\n",
       "  </tbody>\n",
       "</table>\n",
       "<p>5 rows × 235 columns</p>\n",
       "</div>"
      ],
      "text/plain": [
       "      MONTH_Apr  MONTH_Aug  MONTH_Dec  MONTH_Feb  MONTH_Jan  MONTH_Jul  \\\n",
       "1029        0.0        0.0        0.0        0.0        0.0        0.0   \n",
       "677         0.0        0.0        0.0        0.0        0.0        0.0   \n",
       "65          1.0        0.0        0.0        0.0        0.0        0.0   \n",
       "1980        0.0        0.0        0.0        0.0        0.0        0.0   \n",
       "2692        0.0        0.0        0.0        0.0        0.0        0.0   \n",
       "\n",
       "      MONTH_Jun  MONTH_Mar  MONTH_May  MONTH_Nov  ...  NUMBEROFCARS_1-vehicle  \\\n",
       "1029        0.0        0.0        0.0        0.0  ...                     1.0   \n",
       "677         0.0        0.0        1.0        0.0  ...                     1.0   \n",
       "65          0.0        0.0        0.0        0.0  ...                     1.0   \n",
       "1980        0.0        0.0        0.0        0.0  ...                     1.0   \n",
       "2692        0.0        1.0        0.0        0.0  ...                     1.0   \n",
       "\n",
       "      NUMBEROFCARS_2-vehicles  NUMBEROFCARS_3_to_4  NUMBEROFCARS_5_to_8  \\\n",
       "1029                      0.0                  0.0                  0.0   \n",
       "677                       0.0                  0.0                  0.0   \n",
       "65                        0.0                  0.0                  0.0   \n",
       "1980                      0.0                  0.0                  0.0   \n",
       "2692                      0.0                  0.0                  0.0   \n",
       "\n",
       "      YEAR_1994  YEAR_1995  YEAR_1996  BASEPOLICY_All_Perils  \\\n",
       "1029        0.0        1.0        0.0                    0.0   \n",
       "677         0.0        1.0        0.0                    0.0   \n",
       "65          1.0        0.0        0.0                    0.0   \n",
       "1980        0.0        1.0        0.0                    0.0   \n",
       "2692        0.0        0.0        1.0                    0.0   \n",
       "\n",
       "      BASEPOLICY_Collision  BASEPOLICY_Liability  \n",
       "1029                   1.0                   0.0  \n",
       "677                    0.0                   1.0  \n",
       "65                     1.0                   0.0  \n",
       "1980                   1.0                   0.0  \n",
       "2692                   1.0                   0.0  \n",
       "\n",
       "[5 rows x 235 columns]"
      ]
     },
     "execution_count": 146,
     "metadata": {},
     "output_type": "execute_result"
    }
   ],
   "source": [
    "#OneHotEncoding done on categorical variables in Train data\n",
    "\n",
    "ohe = OneHotEncoder(handle_unknown='ignore',sparse=False)\n",
    "Xcat = pd.DataFrame(ohe.fit_transform(Xtrain[categoricalFeatures]),columns=ohe.get_feature_names_out(),index=Xtrain.index)\n",
    "Xtrain = pd.concat([Xtrain,Xcat],axis=1)\n",
    "Xtrain.drop(labels=categoricalFeatures,axis=1,inplace=True)\n",
    "Xtrain.sample(5)"
   ]
  },
  {
   "cell_type": "code",
   "execution_count": 147,
   "id": "f33b0538",
   "metadata": {},
   "outputs": [
    {
     "data": {
      "text/html": [
       "<div>\n",
       "<style scoped>\n",
       "    .dataframe tbody tr th:only-of-type {\n",
       "        vertical-align: middle;\n",
       "    }\n",
       "\n",
       "    .dataframe tbody tr th {\n",
       "        vertical-align: top;\n",
       "    }\n",
       "\n",
       "    .dataframe thead th {\n",
       "        text-align: right;\n",
       "    }\n",
       "</style>\n",
       "<table border=\"1\" class=\"dataframe\">\n",
       "  <thead>\n",
       "    <tr style=\"text-align: right;\">\n",
       "      <th></th>\n",
       "      <th>MONTH_Apr</th>\n",
       "      <th>MONTH_Aug</th>\n",
       "      <th>MONTH_Dec</th>\n",
       "      <th>MONTH_Feb</th>\n",
       "      <th>MONTH_Jan</th>\n",
       "      <th>MONTH_Jul</th>\n",
       "      <th>MONTH_Jun</th>\n",
       "      <th>MONTH_Mar</th>\n",
       "      <th>MONTH_May</th>\n",
       "      <th>MONTH_Nov</th>\n",
       "      <th>...</th>\n",
       "      <th>NUMBEROFCARS_1-vehicle</th>\n",
       "      <th>NUMBEROFCARS_2-vehicles</th>\n",
       "      <th>NUMBEROFCARS_3_to_4</th>\n",
       "      <th>NUMBEROFCARS_5_to_8</th>\n",
       "      <th>YEAR_1994</th>\n",
       "      <th>YEAR_1995</th>\n",
       "      <th>YEAR_1996</th>\n",
       "      <th>BASEPOLICY_All_Perils</th>\n",
       "      <th>BASEPOLICY_Collision</th>\n",
       "      <th>BASEPOLICY_Liability</th>\n",
       "    </tr>\n",
       "  </thead>\n",
       "  <tbody>\n",
       "    <tr>\n",
       "      <th>12493</th>\n",
       "      <td>0.0</td>\n",
       "      <td>0.0</td>\n",
       "      <td>0.0</td>\n",
       "      <td>0.0</td>\n",
       "      <td>1.0</td>\n",
       "      <td>0.0</td>\n",
       "      <td>0.0</td>\n",
       "      <td>0.0</td>\n",
       "      <td>0.0</td>\n",
       "      <td>0.0</td>\n",
       "      <td>...</td>\n",
       "      <td>1.0</td>\n",
       "      <td>0.0</td>\n",
       "      <td>0.0</td>\n",
       "      <td>0.0</td>\n",
       "      <td>1.0</td>\n",
       "      <td>0.0</td>\n",
       "      <td>0.0</td>\n",
       "      <td>1.0</td>\n",
       "      <td>0.0</td>\n",
       "      <td>0.0</td>\n",
       "    </tr>\n",
       "    <tr>\n",
       "      <th>6116</th>\n",
       "      <td>0.0</td>\n",
       "      <td>0.0</td>\n",
       "      <td>0.0</td>\n",
       "      <td>0.0</td>\n",
       "      <td>0.0</td>\n",
       "      <td>0.0</td>\n",
       "      <td>0.0</td>\n",
       "      <td>0.0</td>\n",
       "      <td>1.0</td>\n",
       "      <td>0.0</td>\n",
       "      <td>...</td>\n",
       "      <td>1.0</td>\n",
       "      <td>0.0</td>\n",
       "      <td>0.0</td>\n",
       "      <td>0.0</td>\n",
       "      <td>0.0</td>\n",
       "      <td>1.0</td>\n",
       "      <td>0.0</td>\n",
       "      <td>0.0</td>\n",
       "      <td>0.0</td>\n",
       "      <td>1.0</td>\n",
       "    </tr>\n",
       "    <tr>\n",
       "      <th>11114</th>\n",
       "      <td>0.0</td>\n",
       "      <td>0.0</td>\n",
       "      <td>0.0</td>\n",
       "      <td>0.0</td>\n",
       "      <td>0.0</td>\n",
       "      <td>0.0</td>\n",
       "      <td>0.0</td>\n",
       "      <td>0.0</td>\n",
       "      <td>0.0</td>\n",
       "      <td>1.0</td>\n",
       "      <td>...</td>\n",
       "      <td>1.0</td>\n",
       "      <td>0.0</td>\n",
       "      <td>0.0</td>\n",
       "      <td>0.0</td>\n",
       "      <td>1.0</td>\n",
       "      <td>0.0</td>\n",
       "      <td>0.0</td>\n",
       "      <td>0.0</td>\n",
       "      <td>0.0</td>\n",
       "      <td>1.0</td>\n",
       "    </tr>\n",
       "    <tr>\n",
       "      <th>8761</th>\n",
       "      <td>0.0</td>\n",
       "      <td>0.0</td>\n",
       "      <td>0.0</td>\n",
       "      <td>0.0</td>\n",
       "      <td>0.0</td>\n",
       "      <td>0.0</td>\n",
       "      <td>1.0</td>\n",
       "      <td>0.0</td>\n",
       "      <td>0.0</td>\n",
       "      <td>0.0</td>\n",
       "      <td>...</td>\n",
       "      <td>1.0</td>\n",
       "      <td>0.0</td>\n",
       "      <td>0.0</td>\n",
       "      <td>0.0</td>\n",
       "      <td>0.0</td>\n",
       "      <td>0.0</td>\n",
       "      <td>1.0</td>\n",
       "      <td>0.0</td>\n",
       "      <td>0.0</td>\n",
       "      <td>1.0</td>\n",
       "    </tr>\n",
       "    <tr>\n",
       "      <th>3387</th>\n",
       "      <td>0.0</td>\n",
       "      <td>0.0</td>\n",
       "      <td>0.0</td>\n",
       "      <td>0.0</td>\n",
       "      <td>0.0</td>\n",
       "      <td>1.0</td>\n",
       "      <td>0.0</td>\n",
       "      <td>0.0</td>\n",
       "      <td>0.0</td>\n",
       "      <td>0.0</td>\n",
       "      <td>...</td>\n",
       "      <td>1.0</td>\n",
       "      <td>0.0</td>\n",
       "      <td>0.0</td>\n",
       "      <td>0.0</td>\n",
       "      <td>0.0</td>\n",
       "      <td>0.0</td>\n",
       "      <td>1.0</td>\n",
       "      <td>0.0</td>\n",
       "      <td>1.0</td>\n",
       "      <td>0.0</td>\n",
       "    </tr>\n",
       "  </tbody>\n",
       "</table>\n",
       "<p>5 rows × 235 columns</p>\n",
       "</div>"
      ],
      "text/plain": [
       "       MONTH_Apr  MONTH_Aug  MONTH_Dec  MONTH_Feb  MONTH_Jan  MONTH_Jul  \\\n",
       "12493        0.0        0.0        0.0        0.0        1.0        0.0   \n",
       "6116         0.0        0.0        0.0        0.0        0.0        0.0   \n",
       "11114        0.0        0.0        0.0        0.0        0.0        0.0   \n",
       "8761         0.0        0.0        0.0        0.0        0.0        0.0   \n",
       "3387         0.0        0.0        0.0        0.0        0.0        1.0   \n",
       "\n",
       "       MONTH_Jun  MONTH_Mar  MONTH_May  MONTH_Nov  ...  \\\n",
       "12493        0.0        0.0        0.0        0.0  ...   \n",
       "6116         0.0        0.0        1.0        0.0  ...   \n",
       "11114        0.0        0.0        0.0        1.0  ...   \n",
       "8761         1.0        0.0        0.0        0.0  ...   \n",
       "3387         0.0        0.0        0.0        0.0  ...   \n",
       "\n",
       "       NUMBEROFCARS_1-vehicle  NUMBEROFCARS_2-vehicles  NUMBEROFCARS_3_to_4  \\\n",
       "12493                     1.0                      0.0                  0.0   \n",
       "6116                      1.0                      0.0                  0.0   \n",
       "11114                     1.0                      0.0                  0.0   \n",
       "8761                      1.0                      0.0                  0.0   \n",
       "3387                      1.0                      0.0                  0.0   \n",
       "\n",
       "       NUMBEROFCARS_5_to_8  YEAR_1994  YEAR_1995  YEAR_1996  \\\n",
       "12493                  0.0        1.0        0.0        0.0   \n",
       "6116                   0.0        0.0        1.0        0.0   \n",
       "11114                  0.0        1.0        0.0        0.0   \n",
       "8761                   0.0        0.0        0.0        1.0   \n",
       "3387                   0.0        0.0        0.0        1.0   \n",
       "\n",
       "       BASEPOLICY_All_Perils  BASEPOLICY_Collision  BASEPOLICY_Liability  \n",
       "12493                    1.0                   0.0                   0.0  \n",
       "6116                     0.0                   0.0                   1.0  \n",
       "11114                    0.0                   0.0                   1.0  \n",
       "8761                     0.0                   0.0                   1.0  \n",
       "3387                     0.0                   1.0                   0.0  \n",
       "\n",
       "[5 rows x 235 columns]"
      ]
     },
     "execution_count": 147,
     "metadata": {},
     "output_type": "execute_result"
    }
   ],
   "source": [
    "#OneHotEncoding done on categorical variables in Test data\n",
    "\n",
    "Xcat = pd.DataFrame(ohe.transform(Xtest[categoricalFeatures]),columns=ohe.get_feature_names_out(),index=Xtest.index)\n",
    "Xtest = pd.concat([Xtest,Xcat],axis=1)\n",
    "Xtest.drop(labels=categoricalFeatures,axis=1,inplace=True)\n",
    "Xtest.sample(5)"
   ]
  },
  {
   "cell_type": "code",
   "execution_count": 148,
   "id": "099fbc31",
   "metadata": {},
   "outputs": [
    {
     "data": {
      "text/html": [
       "<style>#sk-container-id-14 {color: black;}#sk-container-id-14 pre{padding: 0;}#sk-container-id-14 div.sk-toggleable {background-color: white;}#sk-container-id-14 label.sk-toggleable__label {cursor: pointer;display: block;width: 100%;margin-bottom: 0;padding: 0.3em;box-sizing: border-box;text-align: center;}#sk-container-id-14 label.sk-toggleable__label-arrow:before {content: \"▸\";float: left;margin-right: 0.25em;color: #696969;}#sk-container-id-14 label.sk-toggleable__label-arrow:hover:before {color: black;}#sk-container-id-14 div.sk-estimator:hover label.sk-toggleable__label-arrow:before {color: black;}#sk-container-id-14 div.sk-toggleable__content {max-height: 0;max-width: 0;overflow: hidden;text-align: left;background-color: #f0f8ff;}#sk-container-id-14 div.sk-toggleable__content pre {margin: 0.2em;color: black;border-radius: 0.25em;background-color: #f0f8ff;}#sk-container-id-14 input.sk-toggleable__control:checked~div.sk-toggleable__content {max-height: 200px;max-width: 100%;overflow: auto;}#sk-container-id-14 input.sk-toggleable__control:checked~label.sk-toggleable__label-arrow:before {content: \"▾\";}#sk-container-id-14 div.sk-estimator input.sk-toggleable__control:checked~label.sk-toggleable__label {background-color: #d4ebff;}#sk-container-id-14 div.sk-label input.sk-toggleable__control:checked~label.sk-toggleable__label {background-color: #d4ebff;}#sk-container-id-14 input.sk-hidden--visually {border: 0;clip: rect(1px 1px 1px 1px);clip: rect(1px, 1px, 1px, 1px);height: 1px;margin: -1px;overflow: hidden;padding: 0;position: absolute;width: 1px;}#sk-container-id-14 div.sk-estimator {font-family: monospace;background-color: #f0f8ff;border: 1px dotted black;border-radius: 0.25em;box-sizing: border-box;margin-bottom: 0.5em;}#sk-container-id-14 div.sk-estimator:hover {background-color: #d4ebff;}#sk-container-id-14 div.sk-parallel-item::after {content: \"\";width: 100%;border-bottom: 1px solid gray;flex-grow: 1;}#sk-container-id-14 div.sk-label:hover label.sk-toggleable__label {background-color: #d4ebff;}#sk-container-id-14 div.sk-serial::before {content: \"\";position: absolute;border-left: 1px solid gray;box-sizing: border-box;top: 0;bottom: 0;left: 50%;z-index: 0;}#sk-container-id-14 div.sk-serial {display: flex;flex-direction: column;align-items: center;background-color: white;padding-right: 0.2em;padding-left: 0.2em;position: relative;}#sk-container-id-14 div.sk-item {position: relative;z-index: 1;}#sk-container-id-14 div.sk-parallel {display: flex;align-items: stretch;justify-content: center;background-color: white;position: relative;}#sk-container-id-14 div.sk-item::before, #sk-container-id-14 div.sk-parallel-item::before {content: \"\";position: absolute;border-left: 1px solid gray;box-sizing: border-box;top: 0;bottom: 0;left: 50%;z-index: -1;}#sk-container-id-14 div.sk-parallel-item {display: flex;flex-direction: column;z-index: 1;position: relative;background-color: white;}#sk-container-id-14 div.sk-parallel-item:first-child::after {align-self: flex-end;width: 50%;}#sk-container-id-14 div.sk-parallel-item:last-child::after {align-self: flex-start;width: 50%;}#sk-container-id-14 div.sk-parallel-item:only-child::after {width: 0;}#sk-container-id-14 div.sk-dashed-wrapped {border: 1px dashed gray;margin: 0 0.4em 0.5em 0.4em;box-sizing: border-box;padding-bottom: 0.4em;background-color: white;}#sk-container-id-14 div.sk-label label {font-family: monospace;font-weight: bold;display: inline-block;line-height: 1.2em;}#sk-container-id-14 div.sk-label-container {text-align: center;}#sk-container-id-14 div.sk-container {/* jupyter's `normalize.less` sets `[hidden] { display: none; }` but bootstrap.min.css set `[hidden] { display: none !important; }` so we also need the `!important` here to be able to override the default hidden behavior on the sphinx rendered scikit-learn.org. See: https://github.com/scikit-learn/scikit-learn/issues/21755 */display: inline-block !important;position: relative;}#sk-container-id-14 div.sk-text-repr-fallback {display: none;}</style><div id=\"sk-container-id-14\" class=\"sk-top-container\"><div class=\"sk-text-repr-fallback\"><pre>DecisionTreeClassifier()</pre><b>In a Jupyter environment, please rerun this cell to show the HTML representation or trust the notebook. <br />On GitHub, the HTML representation is unable to render, please try loading this page with nbviewer.org.</b></div><div class=\"sk-container\" hidden><div class=\"sk-item\"><div class=\"sk-estimator sk-toggleable\"><input class=\"sk-toggleable__control sk-hidden--visually\" id=\"sk-estimator-id-16\" type=\"checkbox\" checked><label for=\"sk-estimator-id-16\" class=\"sk-toggleable__label sk-toggleable__label-arrow\">DecisionTreeClassifier</label><div class=\"sk-toggleable__content\"><pre>DecisionTreeClassifier()</pre></div></div></div></div></div>"
      ],
      "text/plain": [
       "DecisionTreeClassifier()"
      ]
     },
     "execution_count": 148,
     "metadata": {},
     "output_type": "execute_result"
    }
   ],
   "source": [
    "#decision tree classifier\n",
    "\n",
    "dt = DecisionTreeClassifier()\n",
    "dt.fit(Xtrain, Ytrain)"
   ]
  },
  {
   "cell_type": "code",
   "execution_count": 149,
   "id": "1f244545",
   "metadata": {},
   "outputs": [
    {
     "data": {
      "text/html": [
       "<style>#sk-container-id-15 {color: black;}#sk-container-id-15 pre{padding: 0;}#sk-container-id-15 div.sk-toggleable {background-color: white;}#sk-container-id-15 label.sk-toggleable__label {cursor: pointer;display: block;width: 100%;margin-bottom: 0;padding: 0.3em;box-sizing: border-box;text-align: center;}#sk-container-id-15 label.sk-toggleable__label-arrow:before {content: \"▸\";float: left;margin-right: 0.25em;color: #696969;}#sk-container-id-15 label.sk-toggleable__label-arrow:hover:before {color: black;}#sk-container-id-15 div.sk-estimator:hover label.sk-toggleable__label-arrow:before {color: black;}#sk-container-id-15 div.sk-toggleable__content {max-height: 0;max-width: 0;overflow: hidden;text-align: left;background-color: #f0f8ff;}#sk-container-id-15 div.sk-toggleable__content pre {margin: 0.2em;color: black;border-radius: 0.25em;background-color: #f0f8ff;}#sk-container-id-15 input.sk-toggleable__control:checked~div.sk-toggleable__content {max-height: 200px;max-width: 100%;overflow: auto;}#sk-container-id-15 input.sk-toggleable__control:checked~label.sk-toggleable__label-arrow:before {content: \"▾\";}#sk-container-id-15 div.sk-estimator input.sk-toggleable__control:checked~label.sk-toggleable__label {background-color: #d4ebff;}#sk-container-id-15 div.sk-label input.sk-toggleable__control:checked~label.sk-toggleable__label {background-color: #d4ebff;}#sk-container-id-15 input.sk-hidden--visually {border: 0;clip: rect(1px 1px 1px 1px);clip: rect(1px, 1px, 1px, 1px);height: 1px;margin: -1px;overflow: hidden;padding: 0;position: absolute;width: 1px;}#sk-container-id-15 div.sk-estimator {font-family: monospace;background-color: #f0f8ff;border: 1px dotted black;border-radius: 0.25em;box-sizing: border-box;margin-bottom: 0.5em;}#sk-container-id-15 div.sk-estimator:hover {background-color: #d4ebff;}#sk-container-id-15 div.sk-parallel-item::after {content: \"\";width: 100%;border-bottom: 1px solid gray;flex-grow: 1;}#sk-container-id-15 div.sk-label:hover label.sk-toggleable__label {background-color: #d4ebff;}#sk-container-id-15 div.sk-serial::before {content: \"\";position: absolute;border-left: 1px solid gray;box-sizing: border-box;top: 0;bottom: 0;left: 50%;z-index: 0;}#sk-container-id-15 div.sk-serial {display: flex;flex-direction: column;align-items: center;background-color: white;padding-right: 0.2em;padding-left: 0.2em;position: relative;}#sk-container-id-15 div.sk-item {position: relative;z-index: 1;}#sk-container-id-15 div.sk-parallel {display: flex;align-items: stretch;justify-content: center;background-color: white;position: relative;}#sk-container-id-15 div.sk-item::before, #sk-container-id-15 div.sk-parallel-item::before {content: \"\";position: absolute;border-left: 1px solid gray;box-sizing: border-box;top: 0;bottom: 0;left: 50%;z-index: -1;}#sk-container-id-15 div.sk-parallel-item {display: flex;flex-direction: column;z-index: 1;position: relative;background-color: white;}#sk-container-id-15 div.sk-parallel-item:first-child::after {align-self: flex-end;width: 50%;}#sk-container-id-15 div.sk-parallel-item:last-child::after {align-self: flex-start;width: 50%;}#sk-container-id-15 div.sk-parallel-item:only-child::after {width: 0;}#sk-container-id-15 div.sk-dashed-wrapped {border: 1px dashed gray;margin: 0 0.4em 0.5em 0.4em;box-sizing: border-box;padding-bottom: 0.4em;background-color: white;}#sk-container-id-15 div.sk-label label {font-family: monospace;font-weight: bold;display: inline-block;line-height: 1.2em;}#sk-container-id-15 div.sk-label-container {text-align: center;}#sk-container-id-15 div.sk-container {/* jupyter's `normalize.less` sets `[hidden] { display: none; }` but bootstrap.min.css set `[hidden] { display: none !important; }` so we also need the `!important` here to be able to override the default hidden behavior on the sphinx rendered scikit-learn.org. See: https://github.com/scikit-learn/scikit-learn/issues/21755 */display: inline-block !important;position: relative;}#sk-container-id-15 div.sk-text-repr-fallback {display: none;}</style><div id=\"sk-container-id-15\" class=\"sk-top-container\"><div class=\"sk-text-repr-fallback\"><pre>RandomForestClassifier()</pre><b>In a Jupyter environment, please rerun this cell to show the HTML representation or trust the notebook. <br />On GitHub, the HTML representation is unable to render, please try loading this page with nbviewer.org.</b></div><div class=\"sk-container\" hidden><div class=\"sk-item\"><div class=\"sk-estimator sk-toggleable\"><input class=\"sk-toggleable__control sk-hidden--visually\" id=\"sk-estimator-id-17\" type=\"checkbox\" checked><label for=\"sk-estimator-id-17\" class=\"sk-toggleable__label sk-toggleable__label-arrow\">RandomForestClassifier</label><div class=\"sk-toggleable__content\"><pre>RandomForestClassifier()</pre></div></div></div></div></div>"
      ],
      "text/plain": [
       "RandomForestClassifier()"
      ]
     },
     "execution_count": 149,
     "metadata": {},
     "output_type": "execute_result"
    }
   ],
   "source": [
    "#random forest classifier\n",
    "\n",
    "rf = RandomForestClassifier()\n",
    "rf.fit(Xtrain, Ytrain)"
   ]
  },
  {
   "cell_type": "code",
   "execution_count": 150,
   "id": "ac412a00",
   "metadata": {},
   "outputs": [
    {
     "name": "stdout",
     "output_type": "stream",
     "text": [
      "Train Accuracy: 1.0\n",
      "Test Accuracy: 0.8902306858646849\n",
      "Confusion Matrix for Decision Tree:\n",
      "[[11054  1366]\n",
      " [   52   446]]\n",
      "Max Depth 27\n",
      "Leaf 275\n",
      "Printing the precision and recall, among other metrics\n",
      "              precision    recall  f1-score   support\n",
      "\n",
      "          No       1.00      0.89      0.94     12420\n",
      "         Yes       0.25      0.90      0.39       498\n",
      "\n",
      "    accuracy                           0.89     12918\n",
      "   macro avg       0.62      0.89      0.66     12918\n",
      "weighted avg       0.97      0.89      0.92     12918\n",
      "\n"
     ]
    }
   ],
   "source": [
    "#model accuracy of the decision tree classifier\n",
    "\n",
    "X_Pred = dt.predict(Xtest)\n",
    "XPred = dt.predict(Xtrain)\n",
    "\n",
    "print(\"Train Accuracy:\", metrics.accuracy_score(Ytrain,XPred))\n",
    "print(\"Test Accuracy:\", metrics.accuracy_score(Ytest,X_Pred))\n",
    "print(\"Confusion Matrix for Decision Tree:\")\n",
    "print(confusion_matrix(Ytest,X_Pred))\n",
    "print(\"Max Depth\",dt.get_depth())\n",
    "print(\"Leaf\",dt.get_n_leaves())\n",
    "print('Printing the precision and recall, among other metrics')\n",
    "print(metrics.classification_report(Ytest, X_Pred))"
   ]
  },
  {
   "cell_type": "code",
   "execution_count": 151,
   "id": "7503de75",
   "metadata": {},
   "outputs": [
    {
     "name": "stdout",
     "output_type": "stream",
     "text": [
      "Train Accuracy: 1.0\n",
      "Test Accuracy: 0.9544821179749187\n",
      "Confusion Matrix for Decision Tree:\n",
      "[[11909   511]\n",
      " [   77   421]]\n",
      "Printing the precision and recall, among other metrics\n",
      "              precision    recall  f1-score   support\n",
      "\n",
      "          No       0.99      0.96      0.98     12420\n",
      "         Yes       0.45      0.85      0.59       498\n",
      "\n",
      "    accuracy                           0.95     12918\n",
      "   macro avg       0.72      0.90      0.78     12918\n",
      "weighted avg       0.97      0.95      0.96     12918\n",
      "\n"
     ]
    }
   ],
   "source": [
    "#model accuracy of the random forest classifier\n",
    "\n",
    "X_Pred1 = rf.predict(Xtest)\n",
    "XPred1 = rf.predict(Xtrain)\n",
    "\n",
    "print(\"Train Accuracy:\", metrics.accuracy_score(Ytrain,XPred1))\n",
    "print(\"Test Accuracy:\", metrics.accuracy_score(Ytest,X_Pred1))\n",
    "print(\"Confusion Matrix for Decision Tree:\")\n",
    "print(confusion_matrix(Ytest,X_Pred1))\n",
    "print('Printing the precision and recall, among other metrics')\n",
    "print(metrics.classification_report(Ytest, X_Pred1))"
   ]
  },
  {
   "cell_type": "code",
   "execution_count": 162,
   "id": "c8286c16",
   "metadata": {},
   "outputs": [
    {
     "name": "stdout",
     "output_type": "stream",
     "text": [
      "RandomizedSearchCV-Decision tree\n",
      "{'min_samples_leaf': 40, 'max_depth': 7, 'criterion': 'entropy'}\n",
      "accuracy Score for Decision Tree:0.893482\n",
      "--- 11.663054704666138 seconds ---\n"
     ]
    }
   ],
   "source": [
    "#hyperparameter tuning for decision tree classifier\n",
    "\n",
    "#random search\n",
    "\n",
    "import time\n",
    "start_time = time.time()\n",
    "\n",
    "print(\"RandomizedSearchCV-Decision tree\")\n",
    "parameters={'min_samples_leaf' : range(10,300,10),'max_depth': \n",
    "            range(5,30,2),'criterion':['gini','entropy']}\n",
    "dt_random = RandomizedSearchCV(dt,parameters,n_iter=25,cv=5)\n",
    "dt_random.fit(Xtrain, Ytrain)\n",
    "grid_parm=dt_random.best_params_\n",
    "print(grid_parm)\n",
    "print(\"accuracy Score for Decision Tree:{0:6f}\".\n",
    "      format(dt_random.score(Xtest,Ytest)))\n",
    "\n",
    "print(\"--- %s seconds ---\" % (time.time() - start_time))"
   ]
  },
  {
   "cell_type": "code",
   "execution_count": 163,
   "id": "96478c42",
   "metadata": {},
   "outputs": [
    {
     "name": "stdout",
     "output_type": "stream",
     "text": [
      "GridSearchCV-Decision tree\n",
      "{'criterion': 'entropy', 'max_depth': 7, 'min_samples_leaf': 30}\n",
      "accuracy Score for Decision Tree:0.893482\n",
      "--- 284.2454879283905 seconds ---\n"
     ]
    }
   ],
   "source": [
    "#grid search\n",
    "\n",
    "import time\n",
    "start_time = time.time()\n",
    "\n",
    "print(\"GridSearchCV-Decision tree\")\n",
    "dt_grid = GridSearchCV(dt,parameters)\n",
    "dt_grid.fit(Xtrain, Ytrain)\n",
    "grid_parm1=dt_grid.best_params_\n",
    "print(grid_parm1)\n",
    "print(\"accuracy Score for Decision Tree:{0:6f}\".\n",
    "      format(dt_grid.score(Xtest,Ytest)))\n",
    "\n",
    "print(\"--- %s seconds ---\" % (time.time() - start_time))"
   ]
  },
  {
   "cell_type": "code",
   "execution_count": 164,
   "id": "a0ee70ba",
   "metadata": {},
   "outputs": [],
   "source": [
    "#using the parameters obtained from HyperParameterTuning in the DecisionTreeClassifier\n",
    "\n",
    "dtRand = DecisionTreeClassifier(**grid_parm)\n",
    "dtGrid = DecisionTreeClassifier(**grid_parm1)\n",
    "\n",
    "dtRand.fit(Xtrain,Ytrain)\n",
    "dtRand_predict = dtRand.predict(Xtest)\n",
    "dtGrid.fit(Xtrain,Ytrain)\n",
    "dtGrid_predict = dtGrid.predict(Xtest)"
   ]
  },
  {
   "cell_type": "code",
   "execution_count": 165,
   "id": "9716afd8",
   "metadata": {},
   "outputs": [
    {
     "name": "stdout",
     "output_type": "stream",
     "text": [
      "Test Accuracy: 0.8934819631521908\n",
      "Confusion Matrix for Decision Tree:\n",
      "[[11378  1042]\n",
      " [  334   164]]\n",
      "Printing the precision and recall, among other metrics\n",
      "              precision    recall  f1-score   support\n",
      "\n",
      "          No       0.97      0.92      0.94     12420\n",
      "         Yes       0.14      0.33      0.19       498\n",
      "\n",
      "    accuracy                           0.89     12918\n",
      "   macro avg       0.55      0.62      0.57     12918\n",
      "weighted avg       0.94      0.89      0.91     12918\n",
      "\n",
      "[0.74615385 0.73990385 0.54375    0.5        0.55696203]\n"
     ]
    }
   ],
   "source": [
    "#accuracy for Decision Tree using Random Search CV for Hyperparameter Tuning\n",
    "\n",
    "print(\"Test Accuracy:\", metrics.accuracy_score(Ytest,dtRand_predict))\n",
    "print(\"Confusion Matrix for Decision Tree:\")\n",
    "print(confusion_matrix(Ytest,dtRand_predict))\n",
    "print('Printing the precision and recall, among other metrics')\n",
    "print(metrics.classification_report(Ytest, dtRand_predict))\n",
    "clf_cv_score = cross_val_score(dtRand, Xtrain, Ytrain, cv=5, scoring=\"balanced_accuracy\")\n",
    "print(clf_cv_score)"
   ]
  },
  {
   "cell_type": "code",
   "execution_count": 166,
   "id": "b4c15376",
   "metadata": {},
   "outputs": [
    {
     "name": "stdout",
     "output_type": "stream",
     "text": [
      "Test Accuracy: 0.8934819631521908\n",
      "Confusion Matrix for Decision Tree:\n",
      "[[11378  1042]\n",
      " [  334   164]]\n",
      "Printing the precision and recall, among other metrics\n"
     ]
    }
   ],
   "source": [
    "#accuracy for Decision Tree using Grid Search for Hyperparameter Tuning\n",
    "\n",
    "print(\"Test Accuracy:\", metrics.accuracy_score(Ytest,dtGrid_predict))\n",
    "print(\"Confusion Matrix for Decision Tree:\")\n",
    "print(confusion_matrix(Ytest,dtGrid_predict))\n",
    "print('Printing the precision and recall, among other metrics')"
   ]
  },
  {
   "cell_type": "code",
   "execution_count": 167,
   "id": "b3ba6be6",
   "metadata": {},
   "outputs": [
    {
     "name": "stdout",
     "output_type": "stream",
     "text": [
      "RandomizedSearchCV-Random forest\n",
      "{'n_estimators': 40, 'min_samples_leaf': 60, 'max_features': 30, 'max_depth': 9}\n",
      "accuracy Score for Decision Tree:0.961449\n",
      "--- 36.332221031188965 seconds ---\n"
     ]
    }
   ],
   "source": [
    "#hyperparameter tuning done random forest classifier\n",
    "\n",
    "#random search\n",
    "\n",
    "import time\n",
    "start_time = time.time()\n",
    "\n",
    "print(\"RandomizedSearchCV-Random forest\")\n",
    "rand_parameters={'min_samples_leaf' : range(10,100,10),'max_depth': \n",
    "            range(1,10,2),'max_features':[10,20,30],'n_estimators':[20,30,40]}\n",
    "rf_random = RandomizedSearchCV(rf,rand_parameters,n_iter=25,cv=5)\n",
    "rf_random.fit(Xtrain, Ytrain)\n",
    "grid_parm=rf_random.best_params_\n",
    "print(grid_parm)\n",
    "print(\"accuracy Score for Decision Tree:{0:6f}\".\n",
    "      format(rf_random.score(Xtest,Ytest)))\n",
    "\n",
    "print(\"--- %s seconds ---\" % (time.time() - start_time))"
   ]
  },
  {
   "cell_type": "code",
   "execution_count": 168,
   "id": "954f1cd0",
   "metadata": {},
   "outputs": [
    {
     "name": "stdout",
     "output_type": "stream",
     "text": [
      "GridSearchCV-Random Forest\n",
      "{'max_depth': 9, 'max_features': 30, 'min_samples_leaf': 10, 'n_estimators': 40}\n",
      "accuracy Score for Decision Tree:0.929865\n",
      "--- 514.5674405097961 seconds ---\n"
     ]
    }
   ],
   "source": [
    "#grid search\n",
    "\n",
    "import time\n",
    "start_time = time.time()\n",
    "\n",
    "print(\"GridSearchCV-Random Forest\")\n",
    "rf_grid = GridSearchCV(rf,rand_parameters)\n",
    "rf_grid.fit(Xtrain, Ytrain)\n",
    "grid_parm1=rf_grid.best_params_\n",
    "print(grid_parm1)\n",
    "print(\"accuracy Score for Decision Tree:{0:6f}\".\n",
    "      format(rf_grid.score(Xtest,Ytest)))\n",
    "\n",
    "print(\"--- %s seconds ---\" % (time.time() - start_time))"
   ]
  },
  {
   "cell_type": "code",
   "execution_count": 169,
   "id": "9e4bcb28",
   "metadata": {},
   "outputs": [],
   "source": [
    "#using the parameters obtained from HyperParameterTuning in the RandomForestClassifier\n",
    "\n",
    "rfRand = RandomForestClassifier(**grid_parm)\n",
    "rfGrid = RandomForestClassifier(**grid_parm1)\n",
    "\n",
    "rfRand.fit(Xtrain,Ytrain)\n",
    "rfRand_predict = rfRand.predict(Xtest)\n",
    "rfGrid.fit(Xtrain,Ytrain)\n",
    "rfGrid_predict = rfGrid.predict(Xtest)"
   ]
  },
  {
   "cell_type": "code",
   "execution_count": 170,
   "id": "a6ca44a2",
   "metadata": {},
   "outputs": [
    {
     "name": "stdout",
     "output_type": "stream",
     "text": [
      "Test Accuracy: 0.9614491407338597\n",
      "Confusion Matrix for Decision Tree:\n",
      "[[12420     0]\n",
      " [  498     0]]\n",
      "Printing the precision and recall, among other metrics\n",
      "              precision    recall  f1-score   support\n",
      "\n",
      "          No       0.96      1.00      0.98     12420\n",
      "         Yes       0.00      0.00      0.00       498\n",
      "\n",
      "    accuracy                           0.96     12918\n",
      "   macro avg       0.48      0.50      0.49     12918\n",
      "weighted avg       0.92      0.96      0.94     12918\n",
      "\n",
      "[0.5 0.5 0.5 0.5 0.5]\n"
     ]
    }
   ],
   "source": [
    "#accuracy for Random Forest using Random Search CV for Hyperparameter Tuning\n",
    "\n",
    "print(\"Test Accuracy:\", metrics.accuracy_score(Ytest,rfRand_predict))\n",
    "print(\"Confusion Matrix for Decision Tree:\")\n",
    "print(confusion_matrix(Ytest,rfRand_predict))\n",
    "print('Printing the precision and recall, among other metrics')\n",
    "print(metrics.classification_report(Ytest, rfRand_predict))\n",
    "clf_cv_score = cross_val_score(rfRand, Xtrain, Ytrain, cv=5, scoring=\"balanced_accuracy\")\n",
    "print(clf_cv_score)"
   ]
  },
  {
   "cell_type": "code",
   "execution_count": 171,
   "id": "35dbb990",
   "metadata": {},
   "outputs": [
    {
     "name": "stdout",
     "output_type": "stream",
     "text": [
      "Test Accuracy: 0.9269236723951076\n",
      "Confusion Matrix for Decision Tree:\n",
      "[[11846   574]\n",
      " [  370   128]]\n",
      "Printing the precision and recall, among other metrics\n",
      "              precision    recall  f1-score   support\n",
      "\n",
      "          No       0.97      0.95      0.96     12420\n",
      "         Yes       0.18      0.26      0.21       498\n",
      "\n",
      "    accuracy                           0.93     12918\n",
      "   macro avg       0.58      0.61      0.59     12918\n",
      "weighted avg       0.94      0.93      0.93     12918\n",
      "\n"
     ]
    }
   ],
   "source": [
    "#accuracy for Random Forest using Grid Search for Hyperparameter Tuning\n",
    "\n",
    "print(\"Test Accuracy:\", metrics.accuracy_score(Ytest,rfGrid_predict))\n",
    "print(\"Confusion Matrix for Decision Tree:\")\n",
    "print(confusion_matrix(Ytest,rfGrid_predict))\n",
    "print('Printing the precision and recall, among other metrics')\n",
    "print(metrics.classification_report(Ytest, rfGrid_predict))"
   ]
  }
 ],
 "metadata": {
  "kernelspec": {
   "display_name": "Python 3 (ipykernel)",
   "language": "python",
   "name": "python3"
  },
  "language_info": {
   "codemirror_mode": {
    "name": "ipython",
    "version": 3
   },
   "file_extension": ".py",
   "mimetype": "text/x-python",
   "name": "python",
   "nbconvert_exporter": "python",
   "pygments_lexer": "ipython3",
   "version": "3.11.4"
  }
 },
 "nbformat": 4,
 "nbformat_minor": 5
}
